{
 "cells": [
  {
   "cell_type": "code",
   "execution_count": null,
   "metadata": {},
   "outputs": [],
   "source": [
    "import json\n",
    "import os\n",
    "import javalang\n",
    "\n",
    "test_methods = []\n",
    "\n",
    "# Step 1: Identify the test files\n",
    "app_dir = os.path.dirname(os.path.dirname(os.getcwd()))\n",
    "app_dir = os.path.join(app_dir, \"app\", \"ctest-flink-scala-shell\", \"flink-scala-shell\", \"src\", \"test\")\n",
    "for root, dirs, files in os.walk(app_dir):\n",
    "    for file in files:\n",
    "        if file.endswith(\"Test.java\") or file.endswith(\"Tests.java\"):\n",
    "            with open(os.path.join(root, file), \"r\") as f:\n",
    "                # Step 2: Extract test methods\n",
    "                tree = javalang.parse.parse(f.read())\n",
    "                rel_path = os.path.relpath(os.path.join(root, file), app_dir)\n",
    "                rel_path = rel_path.replace(\".java\", \"\")\n",
    "                rel_path = \".\".join(rel_path.split(os.sep)[1:])\n",
    "                for path, node in tree.filter(javalang.tree.MethodDeclaration):\n",
    "                    for annotation in node.annotations:\n",
    "                        if annotation.name == \"Test\":\n",
    "                            # Step 3: Generate JSON\n",
    "                            test_methods.append(f\"{rel_path}#{node.name}\")\n",
    "\n",
    "# Step 4: Write to file\n",
    "with open(\"test_method_list.json\", \"w\") as f:\n",
    "    f.write(json.dumps(test_methods))"
   ]
  }
 ],
 "metadata": {
  "kernelspec": {
   "display_name": "Python 3",
   "language": "python",
   "name": "python3"
  },
  "language_info": {
   "codemirror_mode": {
    "name": "ipython",
    "version": 3
   },
   "file_extension": ".py",
   "mimetype": "text/x-python",
   "name": "python",
   "nbconvert_exporter": "python",
   "pygments_lexer": "ipython3",
   "version": "3.8.10"
  }
 },
 "nbformat": 4,
 "nbformat_minor": 2
}
